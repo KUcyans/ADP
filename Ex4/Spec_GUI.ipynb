{
 "cells": [
  {
   "cell_type": "code",
   "execution_count": null,
   "id": "244702ed",
   "metadata": {},
   "outputs": [],
   "source": [
    "import sys\n",
    "from PyQt5 import QtWidgets\n",
    "from pynot.identify_gui import GraphicInterface\n",
    "from pynot.extract_gui import ExtractGUI\n",
    "from astropy.table import Table"
   ]
  },
  {
   "cell_type": "code",
   "execution_count": null,
   "id": "cc1bf226",
   "metadata": {},
   "outputs": [],
   "source": [
    "app = QtWidgets.QApplication(sys.argv)\n",
    "gui = GraphicInterface('comb_arc_corr.fits', linelist_fname = 'air_henear.dat')\n",
    "\n",
    "gui.show()\n",
    "app.exit(app.exec_())"
   ]
  },
  {
   "cell_type": "code",
   "execution_count": null,
   "id": "aff9d64b",
   "metadata": {},
   "outputs": [],
   "source": [
    "app = QtWidgets.QApplication(sys.argv)\n",
    "gui = ExtractGUI('SN339_bcksub.fits', output_fname = 'SN339_corr_extract.fits')\n",
    "\n",
    "gui.show()\n",
    "app.exit(app.exec_())"
   ]
  },
  {
   "cell_type": "code",
   "execution_count": null,
   "id": "3468712e",
   "metadata": {},
   "outputs": [],
   "source": [
    "app = QtWidgets.QApplication(sys.argv)\n",
    "gui = ExtractGUI('SN340_bcksub.fits', output_fname = 'SN340_corr_extract.fits')\n",
    "\n",
    "gui.show()\n",
    "app.exit(app.exec_())"
   ]
  },
  {
   "cell_type": "code",
   "execution_count": null,
   "id": "7a932845",
   "metadata": {},
   "outputs": [],
   "source": [
    "app = QtWidgets.QApplication(sys.argv)\n",
    "gui = ExtractGUI('SS_bcksub.fits', output_fname = 'SS_corr_extract.fits')\n",
    "\n",
    "gui.show()\n",
    "app.exit(app.exec_())"
   ]
  },
  {
   "cell_type": "code",
   "execution_count": null,
   "id": "f9568b73",
   "metadata": {},
   "outputs": [],
   "source": []
  }
 ],
 "metadata": {
  "kernelspec": {
   "display_name": "Python 3 (ipykernel)",
   "language": "python",
   "name": "python3"
  },
  "language_info": {
   "codemirror_mode": {
    "name": "ipython",
    "version": 3
   },
   "file_extension": ".py",
   "mimetype": "text/x-python",
   "name": "python",
   "nbconvert_exporter": "python",
   "pygments_lexer": "ipython3",
   "version": "3.9.17"
  }
 },
 "nbformat": 4,
 "nbformat_minor": 5
}
