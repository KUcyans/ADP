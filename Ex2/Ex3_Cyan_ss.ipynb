{
 "cells": [
  {
   "cell_type": "markdown",
   "id": "10d99685-6ca8-416a-9083-8854eb5e6a49",
   "metadata": {},
   "source": [
    "### FWHM = 4 (unit : pixels) \n",
    "### Choose the proper aperture size\n",
    "* FWHM : 4 pixels  \n",
    "* pixel scale of the seeing = 0.157 arcsec/sec (per unbinned pixel)\n",
    "    ← can calculate the values in arcsec\n",
    "* use the data of standard stars in STANDARD\n",
    "* \n"
   ]
  },
  {
   "cell_type": "code",
   "execution_count": 3,
   "id": "c999e9bf-591f-4355-95e3-3a0a123481c8",
   "metadata": {},
   "outputs": [
    {
     "data": {
      "text/plain": [
       "<function print>"
      ]
     },
     "execution_count": 3,
     "metadata": {},
     "output_type": "execute_result"
    }
   ],
   "source": [
    "import astropy.io.fits as fits\n",
    "import matplotlib.pyplot as plt\n",
    "import numpy as np\n",
    "import os\n",
    "import shutil\n",
    "\n",
    "print "
   ]
  },
  {
   "cell_type": "code",
   "execution_count": null,
   "id": "73afe260-a628-4fa6-9903-107bf4cea62e",
   "metadata": {},
   "outputs": [],
   "source": [
    "print(os.getcwd())\n",
    "# os.chdir()\n",
    "print(os.getcwd())"
   ]
  }
 ],
 "metadata": {
  "kernelspec": {
   "display_name": "Python 3 (ipykernel)",
   "language": "python",
   "name": "python3"
  },
  "language_info": {
   "codemirror_mode": {
    "name": "ipython",
    "version": 3
   },
   "file_extension": ".py",
   "mimetype": "text/x-python",
   "name": "python",
   "nbconvert_exporter": "python",
   "pygments_lexer": "ipython3",
   "version": "3.8.3"
  }
 },
 "nbformat": 4,
 "nbformat_minor": 5
}
