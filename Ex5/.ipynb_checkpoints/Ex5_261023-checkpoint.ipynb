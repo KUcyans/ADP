{
 "cells": [
  {
   "cell_type": "markdown",
   "id": "f9ee8d73-0723-4c56-ba7f-b5a699e8ae46",
   "metadata": {},
   "source": [
    "## Spectrum extraction\n",
    "1. identify the source\n",
    "1. calaculate the background and substract\n",
    "1. trace the spectrum\n",
    "    * tilted, curved: due to the design of the instrument and differential refraction of the air.\n",
    "    * parallactic angle: \n",
    "1.  extract the flux - background flux\n",
    "* sensitivity function : different extinction by air(airmass)\n",
    "\n",
    "* compare the results from boxcar, Gaussian, and Mofat and find an OPTIMAL extraction\n",
    "    * max S/N ratio : it will be high"
   ]
  }
 ],
 "metadata": {
  "kernelspec": {
   "display_name": "Python 3 (ipykernel)",
   "language": "python",
   "name": "python3"
  },
  "language_info": {
   "codemirror_mode": {
    "name": "ipython",
    "version": 3
   },
   "file_extension": ".py",
   "mimetype": "text/x-python",
   "name": "python",
   "nbconvert_exporter": "python",
   "pygments_lexer": "ipython3",
   "version": "3.8.3"
  }
 },
 "nbformat": 4,
 "nbformat_minor": 5
}
